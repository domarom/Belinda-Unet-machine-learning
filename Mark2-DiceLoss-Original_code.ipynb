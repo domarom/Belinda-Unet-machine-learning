{
 "cells": [
  {
   "cell_type": "code",
   "execution_count": null,
   "metadata": {
    "scrolled": true
   },
   "outputs": [],
   "source": [
    "import tensorflow as tf #conda\n",
    "#open new env by typing 'activate newenvt' into conda\n",
    "#conda install tensorflow works not pip\n",
    "#redtart spyder if still doesnt work\n",
    "from keras import backend as K\n",
    "import os #conda\n",
    "import random #conda\n",
    "from tensorflow.keras.layers import Flatten\n",
    "import numpy as np #pip\n",
    "from tqdm import tqdm #pip\n",
    "from skimage.io import imread, imshow #pip install scikit-image\n",
    "from skimage.transform import resize\n",
    "import matplotlib.pyplot as plt #pip matplotlib\n",
    "import glob #pip install glob2\n",
    "import cv2 #pip install opencv-python\n",
    "from matplotlib import pyplot as plt\n",
    "from PIL import Image, ImageOps\n",
    "\n",
    "seed = 42 #random seed so the results don't change everytime we run the model\n",
    "np.random.seed = seed\n",
    "\n",
    "import glob\n",
    "import cv2\n",
    "import os\n",
    "import numpy as np\n",
    "from matplotlib import pyplot as plt\n"
   ]
  },
  {
   "cell_type": "code",
   "execution_count": null,
   "metadata": {},
   "outputs": [],
   "source": [
    "SIZE_X = 256 #Resize images (height  = X, width = Y)\n",
    "SIZE_Y = 256\n",
    "IMG_WIDTH = 256\n",
    "IMG_HEIGHT = 256\n",
    "IMG_CHANNELS = 3\n",
    "\n",
    "# TRAIN_PATH = './Subset/training_images'\n",
    "# MASK_PATH = './Subset/masks-matlab'\n",
    "# TEST_PATH = './Subset/test_images'\n",
    "# LOG_DIR='./logs'\n",
    "\n",
    "TRAIN_PATH = 'D:/Training_data/training_images/TL3_random/'\n",
    "MASK_PATH = 'D:/Training_data/training_mask/TL3_masks/PixelLabelData/' \n",
    "TEST_PATH = 'D:/TL3/'\n",
    "LOG_DIR='logs/'"
   ]
  },
  {
   "cell_type": "code",
   "execution_count": null,
   "metadata": {},
   "outputs": [],
   "source": [
    "X_train = [] # was train_image\n",
    "\n",
    "for directory_path in glob.glob(TRAIN_PATH):\n",
    "    for TRAIN_PATH in glob.glob(os.path.join(directory_path, \"*.bmp\")):\n",
    "        #print(TRAIN_PATH)\n",
    "        img = Image.open(TRAIN_PATH)\n",
    "        img = img.resize((SIZE_X, SIZE_Y), Image.ANTIALIAS) #resize the image\n",
    "        img = np.array(img)\n",
    "\n",
    "        #img = cv2.imread(TRAIN_PATH, cv2.IMREAD_COLOR)\n",
    "        #img = cv2.resize(img, (SIZE_Y, SIZE_X))\n",
    "        #img = cv2.cvtColor(img, cv2.COLOR_RGB2BGR)\n",
    "        X_train.append(img)\n",
    "        #train_labels.append(label)\n",
    "#Convert list to array for machine learning processing\n",
    "X_train = np.array(X_train)"
   ]
  },
  {
   "cell_type": "code",
   "execution_count": null,
   "metadata": {},
   "outputs": [],
   "source": [
    "X_train.shape"
   ]
  },
  {
   "cell_type": "code",
   "execution_count": null,
   "metadata": {},
   "outputs": [],
   "source": [
    "#Capture mask/label info as a list\n",
    "Y_train = [] #was train_mask\n",
    "for directory_path in glob.glob(MASK_PATH):\n",
    "    l=glob.glob(os.path.join(directory_path, \"*\"))\n",
    "    l.sort(key=lambda x:int(x.split(os.sep)[-1].split(\"_\")[1].split(\".\")[0]))\n",
    "    for MASK_PATH in l:\n",
    "        mask = cv2.imread(MASK_PATH, 0)\n",
    "        n=mask==1\n",
    "        mask[n]= 1\n",
    "        mask[~n]= 0\n",
    "        mask = cv2.resize(mask, (SIZE_Y, SIZE_X))\n",
    "        Y_train.append(mask)\n",
    "        #train_labels.append(label)\n",
    "        #mask = np.maximum(mask, mask_) #PICKS LARGEST VALUE?\n",
    "#Convert list to array for machine learning processing\n",
    "Y_train = np.array(Y_train)"
   ]
  },
  {
   "cell_type": "code",
   "execution_count": null,
   "metadata": {},
   "outputs": [],
   "source": [
    "plt.imshow(X_train[44])"
   ]
  },
  {
   "cell_type": "code",
   "execution_count": null,
   "metadata": {},
   "outputs": [],
   "source": [
    "plt.imshow(Y_train[44])"
   ]
  },
  {
   "cell_type": "code",
   "execution_count": null,
   "metadata": {},
   "outputs": [],
   "source": [
    "plt.imshow(X_train[20])"
   ]
  },
  {
   "cell_type": "code",
   "execution_count": null,
   "metadata": {},
   "outputs": [],
   "source": [
    "plt.imshow(Y_train[20])"
   ]
  },
  {
   "cell_type": "code",
   "execution_count": null,
   "metadata": {},
   "outputs": [],
   "source": [
    "X_test = [] #was for testing images\n",
    "for directory_path in glob.glob(TEST_PATH):\n",
    "    for TEST_PATH in glob.glob(os.path.join(directory_path, \"*.bmp\")):\n",
    "        img = Image.open(TEST_PATH)\n",
    "        img = img.resize((SIZE_X, SIZE_Y), Image.ANTIALIAS) #resize the image\n",
    "        img = np.array(img)\n",
    "\n",
    "        #test = cv2.imread(TEST_PATH, 0)\n",
    "        #test = cv2.resize(test, (SIZE_Y, SIZE_X))\n",
    "        #test = cv2.cvtColor(test, cv2.COLOR_RGB2BGR)\n",
    "        X_test.append(img)\n",
    "        #train_labels.append(label)\n",
    "#Convert list to array for machine learning processing\n",
    "X_test = np.array(X_test)"
   ]
  },
  {
   "cell_type": "code",
   "execution_count": null,
   "metadata": {},
   "outputs": [],
   "source": [
    "X = X_train # was train_images\n",
    "Y = Y_train #was train_mask\n",
    "Y_train = Y_train.astype(np.float32)"
   ]
  },
  {
   "cell_type": "code",
   "execution_count": null,
   "metadata": {},
   "outputs": [],
   "source": [
    "inputs = tf.keras.layers.Input((IMG_HEIGHT, IMG_WIDTH, IMG_CHANNELS))\n",
    "s = tf.keras.layers.Lambda(lambda x: x / 255)(inputs)\n",
    "\n",
    "# Contraction path\n",
    "c1 = tf.keras.layers.Conv2D(16, (3, 3), activation='relu', kernel_initializer='he_normal', padding='same')(s)\n",
    "c1 = tf.keras.layers.Dropout(0.1)(c1)\n",
    "c1 = tf.keras.layers.Conv2D(16, (3, 3), activation='relu', kernel_initializer='he_normal', padding='same')(c1)\n",
    "p1 = tf.keras.layers.MaxPooling2D((2, 2))(c1)\n",
    "\n",
    "c2 = tf.keras.layers.Conv2D(32, (3, 3), activation='relu', kernel_initializer='he_normal', padding='same')(p1)\n",
    "c2 = tf.keras.layers.Dropout(0.1)(c2)\n",
    "c2 = tf.keras.layers.Conv2D(32, (3, 3), activation='relu', kernel_initializer='he_normal', padding='same')(c2)\n",
    "p2 = tf.keras.layers.MaxPooling2D((2, 2))(c2)\n",
    "\n",
    "c3 = tf.keras.layers.Conv2D(64, (3, 3), activation='relu', kernel_initializer='he_normal', padding='same')(p2)\n",
    "c3 = tf.keras.layers.Dropout(0.2)(c3)\n",
    "c3 = tf.keras.layers.Conv2D(64, (3, 3), activation='relu', kernel_initializer='he_normal', padding='same')(c3)\n",
    "p3 = tf.keras.layers.MaxPooling2D((2, 2))(c3)\n",
    "\n",
    "c4 = tf.keras.layers.Conv2D(128, (3, 3), activation='relu', kernel_initializer='he_normal', padding='same')(p3)\n",
    "c4 = tf.keras.layers.Dropout(0.2)(c4)\n",
    "c4 = tf.keras.layers.Conv2D(128, (3, 3), activation='relu', kernel_initializer='he_normal', padding='same')(c4)\n",
    "p4 = tf.keras.layers.MaxPooling2D(pool_size=(2, 2))(c4)\n",
    "\n",
    "c5 = tf.keras.layers.Conv2D(256, (3, 3), activation='relu', kernel_initializer='he_normal', padding='same')(p4)\n",
    "c5 = tf.keras.layers.Dropout(0.3)(c5)\n",
    "c5 = tf.keras.layers.Conv2D(256, (3, 3), activation='relu', kernel_initializer='he_normal', padding='same')(c5)\n",
    "\n",
    "# Expansive path\n",
    "u6 = tf.keras.layers.Conv2DTranspose(128, (2, 2), strides=(2, 2), padding='same')(c5)\n",
    "u6 = tf.keras.layers.concatenate([u6, c4])\n",
    "c6 = tf.keras.layers.Conv2D(128, (3, 3), activation='relu', kernel_initializer='he_normal', padding='same')(u6)\n",
    "c6 = tf.keras.layers.Dropout(0.2)(c6)\n",
    "c6 = tf.keras.layers.Conv2D(128, (3, 3), activation='relu', kernel_initializer='he_normal', padding='same')(c6)\n",
    "\n",
    "u7 = tf.keras.layers.Conv2DTranspose(64, (2, 2), strides=(2, 2), padding='same')(c6)\n",
    "u7 = tf.keras.layers.concatenate([u7, c3])\n",
    "c7 = tf.keras.layers.Conv2D(64, (3, 3), activation='relu', kernel_initializer='he_normal', padding='same')(u7)\n",
    "c7 = tf.keras.layers.Dropout(0.2)(c7)\n",
    "c7 = tf.keras.layers.Conv2D(64, (3, 3), activation='relu', kernel_initializer='he_normal', padding='same')(c7)\n",
    "\n",
    "u8 = tf.keras.layers.Conv2DTranspose(32, (2, 2), strides=(2, 2), padding='same')(c7)\n",
    "u8 = tf.keras.layers.concatenate([u8, c2])\n",
    "c8 = tf.keras.layers.Conv2D(32, (3, 3), activation='relu', kernel_initializer='he_normal', padding='same')(u8)\n",
    "c8 = tf.keras.layers.Dropout(0.1)(c8)\n",
    "c8 = tf.keras.layers.Conv2D(32, (3, 3), activation='relu', kernel_initializer='he_normal', padding='same')(c8)\n",
    "\n",
    "u9 = tf.keras.layers.Conv2DTranspose(16, (2, 2), strides=(2, 2), padding='same')(c8)\n",
    "u9 = tf.keras.layers.concatenate([u9, c1], axis=3)\n",
    "c9 = tf.keras.layers.Conv2D(16, (3, 3), activation='relu', kernel_initializer='he_normal', padding='same')(u9)\n",
    "c9 = tf.keras.layers.Dropout(0.1)(c9)\n",
    "c9 = tf.keras.layers.Conv2D(16, (3, 3), activation='relu', kernel_initializer='he_normal', padding='same')(c9)\n",
    "\n",
    "outputs = tf.keras.layers.Conv2D(1, (1, 1), activation='sigmoid')(c9)\n"
   ]
  },
  {
   "cell_type": "code",
   "execution_count": null,
   "metadata": {},
   "outputs": [],
   "source": [
    "def dice_coef(y_true, y_pred):\n",
    "    smooth = 1e-4\n",
    "    y_true_f = K.flatten(y_true)\n",
    "    y_pred_f = K.flatten(y_pred)\n",
    "    intersection = K.sum(y_true_f * y_pred_f)\n",
    "    return (2. * intersection + smooth) / (K.sum(y_true_f) + K.sum(y_pred_f) + smooth)\n",
    "\n",
    "def dice_coef_loss(y_true, y_pred):\n",
    "    \"\"\"\n",
    "    Helper function to calculate dice loss\n",
    "    \"\"\"\n",
    "    return 1-dice_coef(y_true, y_pred)\n",
    "\n"
   ]
  },
  {
   "cell_type": "code",
   "execution_count": null,
   "metadata": {},
   "outputs": [],
   "source": [
    "model = tf.keras.Model(inputs=[inputs], outputs=[outputs])\n",
    "adam=tf.keras.optimizers.Adam(learning_rate=0.00005)\n",
    "model.compile(optimizer=adam, loss = dice_coef_loss, metrics=[dice_coef, 'accuracy'])\n",
    "#model.compile(optimizer=adam, loss = \"binary_crossentropy\", metrics=[dice_coef, 'accuracy'])\n",
    "#model.summary()"
   ]
  },
  {
   "cell_type": "code",
   "execution_count": null,
   "metadata": {},
   "outputs": [],
   "source": [
    "checkpointer = tf.keras.callbacks.ModelCheckpoint('Belinda.ckpt', verbose=1, save_best_only=True)\n",
    "\n",
    "callbacks = [\n",
    "    tf.keras.callbacks.EarlyStopping(patience=2, monitor='val_loss'),\n",
    "    #tf.profiler.experimental.stop(logdir = r'E:\\Dominica-test\\images\\logs'),\n",
    "    tf.keras.callbacks.TensorBoard(log_dir = LOG_DIR), #saves to file where python code is\n",
    "   checkpointer\n",
    "]\n"
   ]
  },
  {
   "cell_type": "code",
   "execution_count": null,
   "metadata": {},
   "outputs": [],
   "source": [
    "model.fit(X_train, Y_train,validation_split=0.2, batch_size=16, epochs=50 )"
   ]
  },
  {
   "cell_type": "code",
   "execution_count": null,
   "metadata": {},
   "outputs": [],
   "source": [
    "\n",
    "preds_train = model.predict(X_train, verbose=1)\n",
    "preds_test = model.predict(X_test, verbose=1)\n",
    "\n",
    "\n",
    "\n",
    "preds_train_t = (preds_train > 0.5).astype(np.uint8)\n",
    "preds_test_t = (preds_test > 0.5).astype(np.uint8)\n",
    "np.save(\"test_set_dice_inverted_masks-TL3.npy\", preds_test_t) #save this data set into a numpy not sure where check later"
   ]
  },
  {
   "cell_type": "code",
   "execution_count": null,
   "metadata": {},
   "outputs": [],
   "source": [
    "dataset =\"timeseries_3\" #change it for different timeseries\n",
    "model_name = \"Belinda_\" + dataset + \".h5\"\n",
    "model.save(model_name)"
   ]
  },
  {
   "cell_type": "code",
   "execution_count": null,
   "metadata": {},
   "outputs": [],
   "source": [
    "plt.imshow(np.squeeze(preds_test_t[10]))\n",
    "plt.colorbar()"
   ]
  },
  {
   "cell_type": "code",
   "execution_count": null,
   "metadata": {},
   "outputs": [],
   "source": [
    "preds_test_t[10]"
   ]
  },
  {
   "cell_type": "code",
   "execution_count": null,
   "metadata": {},
   "outputs": [],
   "source": [
    "plt.imshow(np.squeeze(preds_train_t[35]))\n",
    "plt.colorbar()"
   ]
  },
  {
   "cell_type": "code",
   "execution_count": null,
   "metadata": {},
   "outputs": [],
   "source": [
    "plt.imshow(np.squeeze(Y_train[10]))\n",
    "plt.colorbar()"
   ]
  },
  {
   "cell_type": "code",
   "execution_count": null,
   "metadata": {},
   "outputs": [],
   "source": [
    "plt.imshow(np.squeeze(X_train[10]))\n"
   ]
  },
  {
   "cell_type": "code",
   "execution_count": null,
   "metadata": {},
   "outputs": [],
   "source": [
    "pred = model.predict(np.expand_dims(X_train[10],0), verbose=1)"
   ]
  },
  {
   "cell_type": "code",
   "execution_count": null,
   "metadata": {},
   "outputs": [],
   "source": [
    "plt.imshow(np.squeeze(pred))"
   ]
  },
  {
   "cell_type": "code",
   "execution_count": null,
   "metadata": {},
   "outputs": [],
   "source": []
  }
 ],
 "metadata": {
  "kernelspec": {
   "display_name": "Python 3",
   "language": "python",
   "name": "python3"
  },
  "language_info": {
   "codemirror_mode": {
    "name": "ipython",
    "version": 3
   },
   "file_extension": ".py",
   "mimetype": "text/x-python",
   "name": "python",
   "nbconvert_exporter": "python",
   "pygments_lexer": "ipython3",
   "version": "3.8.8"
  }
 },
 "nbformat": 4,
 "nbformat_minor": 2
}
